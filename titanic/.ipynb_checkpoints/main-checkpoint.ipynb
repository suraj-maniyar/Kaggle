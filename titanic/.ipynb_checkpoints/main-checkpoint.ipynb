{
 "cells": [
  {
   "cell_type": "code",
   "execution_count": null,
   "metadata": {},
   "outputs": [],
   "source": [
    "import pandas as pd\n",
    "import numpy as np\n",
    "import os\n",
    "from sklearn.cross_validation import train_test_split\n",
    "import string"
   ]
  },
  {
   "cell_type": "code",
   "execution_count": null,
   "metadata": {},
   "outputs": [],
   "source": [
    "data_path = '../data/titanic/'"
   ]
  },
  {
   "cell_type": "code",
   "execution_count": null,
   "metadata": {},
   "outputs": [],
   "source": [
    "train = pd.read_csv( os.path.join(data_path, 'train.csv') )\n",
    "test = pd.read_csv( os.path.join(data_path, 'test.csv') )\n",
    "sub = pd.read_csv( os.path.join(data_path, 'gender_submission.csv') )"
   ]
  },
  {
   "cell_type": "code",
   "execution_count": null,
   "metadata": {},
   "outputs": [],
   "source": [
    "test['Fare'][152] = train['Fare'].mean()"
   ]
  },
  {
   "cell_type": "code",
   "execution_count": null,
   "metadata": {},
   "outputs": [],
   "source": [
    "train.head()"
   ]
  },
  {
   "cell_type": "code",
   "execution_count": null,
   "metadata": {},
   "outputs": [],
   "source": [
    "train = train.drop('Ticket', axis=1)\n",
    "train = train.drop('Embarked', axis=1)\n",
    "train = train.drop('PassengerId', axis=1)\n",
    "train = train.drop('Cabin', axis=1)\n",
    "train['FamilySize'] = train['SibSp'] + train['Parch']\n",
    "train['Total Fare'] = (train['FamilySize']+1) * train['Fare']\n",
    "train = train.drop('Fare', axis=1)\n",
    "\n",
    "\n",
    "test_pID = test['PassengerId']\n",
    "test = test.drop('Ticket', axis=1)\n",
    "test = test.drop('Embarked', axis=1)\n",
    "test = test.drop('PassengerId', axis=1)\n",
    "test = test.drop('Cabin', axis=1)\n",
    "test['FamilySize'] = test['SibSp'] + test['Parch']\n",
    "test['Total Fare'] = (test['FamilySize']+1) * test['Fare']\n",
    "test = test.drop('Fare', axis=1)\n"
   ]
  },
  {
   "cell_type": "code",
   "execution_count": null,
   "metadata": {},
   "outputs": [],
   "source": [
    "train.head()"
   ]
  },
  {
   "cell_type": "code",
   "execution_count": null,
   "metadata": {},
   "outputs": [],
   "source": [
    "title_list = ['Mr', 'Mrs', 'Dr', 'Miss', 'Master', 'Rev', 'Ms', 'Capt', 'Sir', 'Major',\\\n",
    "              'Don', 'Mlle', 'Mme', 'Jonkheer', 'Countess', 'Col']"
   ]
  },
  {
   "cell_type": "code",
   "execution_count": null,
   "metadata": {},
   "outputs": [],
   "source": [
    "# Reference : https://triangleinequality.wordpress.com/2013/09/08/basic-feature-engineering-with-the-titanic-data/\n",
    "\n",
    "def title_in_name(name, target_list):\n",
    "    for title in title_list:\n",
    "        if name.find(title) != -1:\n",
    "            return title\n",
    "    print(name)\n",
    "    return np.nan\n"
   ]
  },
  {
   "cell_type": "code",
   "execution_count": null,
   "metadata": {},
   "outputs": [],
   "source": [
    "train['Title'] = train['Name'].map(lambda x: title_in_name(x, title_list))\n",
    "train = train.drop('Name', axis=1)\n",
    "\n",
    "test['Title'] = test['Name'].map(lambda x: title_in_name(x, title_list))\n",
    "test = test.drop('Name', axis=1)\n"
   ]
  },
  {
   "cell_type": "code",
   "execution_count": null,
   "metadata": {},
   "outputs": [],
   "source": [
    "#train.head()\n",
    "test.head()"
   ]
  },
  {
   "cell_type": "code",
   "execution_count": null,
   "metadata": {},
   "outputs": [],
   "source": [
    "def replace_titles(x):\n",
    "    title = x['Title']\n",
    "    if title in ['Don', 'Major', 'Capt', 'Jonkheer', 'Rev', 'Col']:\n",
    "        return 'Mr'\n",
    "    elif title in ['Countess', 'Mme', 'Mme.']:\n",
    "        return 'Mrs'\n",
    "    elif title in ['Mlle', 'Ms', 'Mlle.', 'Ms.']:\n",
    "        return 'Miss'\n",
    "    elif title == 'Dr':\n",
    "        if x['Sex'] == 'male':\n",
    "            return 'Mr'\n",
    "        else:\n",
    "            return 'Mrs'\n",
    "    else:\n",
    "        return title\n",
    "    \n",
    "train['Title'] = train.apply(replace_titles, axis=1)\n",
    "test['Title'] = test.apply(replace_titles, axis=1)"
   ]
  },
  {
   "cell_type": "code",
   "execution_count": null,
   "metadata": {},
   "outputs": [],
   "source": [
    "train['Sex'] = (train['Sex'] == 'male').astype('int')\n",
    "test['Sex'] = (test['Sex'] == 'male').astype('int')"
   ]
  },
  {
   "cell_type": "code",
   "execution_count": null,
   "metadata": {},
   "outputs": [],
   "source": [
    "X = train[['Pclass', 'Sex', 'Age', 'SibSp', 'Parch', 'FamilySize', 'Title', 'Total Fare']]\n",
    "Y = train[['Survived']]\n",
    "\n",
    "X_test = test[['Pclass', 'Sex', 'Age', 'SibSp', 'Parch', 'FamilySize', 'Title', 'Total Fare']]\n"
   ]
  },
  {
   "cell_type": "code",
   "execution_count": null,
   "metadata": {},
   "outputs": [],
   "source": []
  },
  {
   "cell_type": "code",
   "execution_count": null,
   "metadata": {},
   "outputs": [],
   "source": [
    "test_split = 0.1\n",
    "X_train, X_CV, Y_train, Y_CV = train_test_split(X, Y, test_size=test_split, random_state=42)\n",
    "\n",
    "\n",
    "print('Train : ')\n",
    "print(X_train.shape)\n",
    "print(Y_train.shape)\n",
    "print('CV : ')\n",
    "print(X_CV.shape)\n",
    "print(Y_CV.shape)"
   ]
  },
  {
   "cell_type": "code",
   "execution_count": null,
   "metadata": {},
   "outputs": [],
   "source": [
    "def get_means_age(df):\n",
    "    sum_val={'Mr':0, 'Mrs':0, 'Miss':0, 'Master':0}\n",
    "    count_val={'Mr':0, 'Mrs':0, 'Miss':0, 'Master':0}\n",
    "    mean_val={'Mr':0, 'Mrs':0, 'Miss':0, 'Master':0}\n",
    "    \n",
    "    for _, row in df.iterrows():\n",
    "        if not np.isnan(row['Age']):\n",
    "            sum_val[row['Title']] += row['Age']\n",
    "            count_val[row['Title']] += 1\n",
    "    \n",
    "    for key in sum_val.keys():\n",
    "        mean_val[key] = sum_val[key] / count_val[key]\n",
    "        \n",
    "    return mean_val\n",
    "\n",
    "mean_ages = get_means_age(train)\n",
    "\n",
    "def replace_nan_ages(x):\n",
    "    if np.isnan(x['Age']):\n",
    "        x['Age'] = mean_ages[x['Title']]\n",
    "    return x\n",
    "\n",
    "\n"
   ]
  },
  {
   "cell_type": "code",
   "execution_count": null,
   "metadata": {},
   "outputs": [],
   "source": [
    "X_train = X_train.apply(replace_nan_ages, axis=1)\n",
    "X_CV = X_CV.apply(replace_nan_ages, axis=1)\n",
    "X_test = X_test.apply(replace_nan_ages, axis=1)\n"
   ]
  },
  {
   "cell_type": "code",
   "execution_count": null,
   "metadata": {},
   "outputs": [],
   "source": [
    "title = {'Mr':0, 'Master':1, 'Miss':2, 'Mrs':3}\n",
    "\n",
    "def title2num(x):\n",
    "    return title[ x['Title'] ]\n",
    "\n",
    "X_train['Title'] = X_train.apply(title2num, axis=1)\n",
    "X_CV['Title'] = X_CV.apply(title2num, axis=1)\n",
    "X_test['Title'] = X_test.apply(title2num, axis=1)"
   ]
  },
  {
   "cell_type": "code",
   "execution_count": null,
   "metadata": {},
   "outputs": [],
   "source": [
    "X_train.head()"
   ]
  },
  {
   "cell_type": "code",
   "execution_count": null,
   "metadata": {},
   "outputs": [],
   "source": [
    "Y_train.head()"
   ]
  },
  {
   "cell_type": "code",
   "execution_count": null,
   "metadata": {},
   "outputs": [],
   "source": []
  },
  {
   "cell_type": "code",
   "execution_count": null,
   "metadata": {},
   "outputs": [],
   "source": [
    "X_train = np.array(X_train)\n",
    "Y_train = np.array(Y_train)\n",
    "\n",
    "X_CV = np.array(X_CV)\n",
    "Y_CV = np.array(Y_CV)\n",
    "\n",
    "X_test = np.array(X_test)\n",
    "\n",
    "Y_train =  Y_train.ravel()\n",
    "Y_CV =  Y_CV.ravel()"
   ]
  },
  {
   "cell_type": "markdown",
   "metadata": {},
   "source": [
    "# Model Training"
   ]
  },
  {
   "cell_type": "code",
   "execution_count": null,
   "metadata": {},
   "outputs": [],
   "source": [
    "X_train = np.concatenate((X_train, X_CV))\n",
    "Y_train = np.concatenate((Y_train, Y_CV))\n"
   ]
  },
  {
   "cell_type": "code",
   "execution_count": null,
   "metadata": {},
   "outputs": [],
   "source": []
  },
  {
   "cell_type": "code",
   "execution_count": null,
   "metadata": {},
   "outputs": [],
   "source": [
    "from sklearn.ensemble import RandomForestClassifier\n",
    "from sklearn.model_selection import cross_val_score, RandomizedSearchCV\n",
    "from sklearn import metrics\n",
    "import matplotlib.pyplot as plt\n",
    "from scipy.stats import randint"
   ]
  },
  {
   "cell_type": "code",
   "execution_count": null,
   "metadata": {},
   "outputs": [],
   "source": [
    "params = {\"n_estimators\": [1000, 5000],\n",
    "          \"criterion\": [\"gini\", \"entropy\"],\n",
    "          \"min_samples_leaf\":randint(1, 9),\n",
    "          \"max_depth\": [1, None]}"
   ]
  },
  {
   "cell_type": "code",
   "execution_count": null,
   "metadata": {},
   "outputs": [],
   "source": [
    "clf = RandomForestClassifier(verbose=1, n_jobs=8)"
   ]
  },
  {
   "cell_type": "code",
   "execution_count": null,
   "metadata": {},
   "outputs": [],
   "source": [
    "best_model = RandomizedSearchCV(clf, params, cv=5)"
   ]
  },
  {
   "cell_type": "code",
   "execution_count": null,
   "metadata": {
    "scrolled": true
   },
   "outputs": [],
   "source": [
    "best_model.fit(X_train, Y_train)"
   ]
  },
  {
   "cell_type": "code",
   "execution_count": null,
   "metadata": {},
   "outputs": [],
   "source": [
    "best_model.best_score_"
   ]
  },
  {
   "cell_type": "code",
   "execution_count": null,
   "metadata": {},
   "outputs": [],
   "source": [
    "best_model.best_params_"
   ]
  },
  {
   "cell_type": "code",
   "execution_count": null,
   "metadata": {
    "scrolled": true
   },
   "outputs": [],
   "source": [
    "#print( np.mean(cross_val_score(best_model, X_train, Y_train, cv=4, scoring='f1')) )"
   ]
  },
  {
   "cell_type": "code",
   "execution_count": null,
   "metadata": {},
   "outputs": [],
   "source": [
    "best_model.feature_importances_"
   ]
  },
  {
   "cell_type": "code",
   "execution_count": null,
   "metadata": {},
   "outputs": [],
   "source": []
  },
  {
   "cell_type": "code",
   "execution_count": null,
   "metadata": {},
   "outputs": [],
   "source": []
  },
  {
   "cell_type": "code",
   "execution_count": null,
   "metadata": {},
   "outputs": [],
   "source": [
    "'''\n",
    "print('Accuracy : ', clf.score(X_CV, Y_CV))\n",
    "\n",
    "fpr, tpr, thresholds = metrics.roc_curve(Y_CV, Y_pred_CV, pos_label=1)\n",
    "roc_auc = metrics.auc(fpr, tpr)\n",
    "print('AUC       : ', roc_auc)\n",
    "\n",
    "f1 = metrics.f1_score(Y_CV, Y_pred_CV, average='binary')\n",
    "print('F1 score  : ', f1)\n",
    "\n",
    "cm = metrics.confusion_matrix(Y_CV, Y_pred_CV)\n",
    "print('Confusion Matrix : ')\n",
    "print(cm)\n",
    "\n",
    "plt.figure()\n",
    "plt.plot(fpr, tpr, color='darkorange', lw=1, label='ROC curve (area = %0.2f)' % roc_auc)\n",
    "plt.plot([0, 1], [0, 1], color='navy', lw=2, linestyle='--')\n",
    "plt.xlim([0.0, 1.0])\n",
    "plt.ylim([0.0, 1.05])\n",
    "plt.xlabel('False Positive Rate')\n",
    "plt.ylabel('True Positive Rate')\n",
    "plt.title('Receiver operating characteristic')\n",
    "plt.legend(loc=\"lower right\")\n",
    "plt.grid()\n",
    "'''"
   ]
  },
  {
   "cell_type": "code",
   "execution_count": null,
   "metadata": {},
   "outputs": [],
   "source": []
  },
  {
   "cell_type": "code",
   "execution_count": null,
   "metadata": {},
   "outputs": [],
   "source": []
  },
  {
   "cell_type": "code",
   "execution_count": null,
   "metadata": {},
   "outputs": [],
   "source": []
  },
  {
   "cell_type": "markdown",
   "metadata": {},
   "source": [
    "# Making Prediction"
   ]
  },
  {
   "cell_type": "code",
   "execution_count": null,
   "metadata": {},
   "outputs": [],
   "source": [
    "prediction = clf.predict(X_test)"
   ]
  },
  {
   "cell_type": "code",
   "execution_count": null,
   "metadata": {},
   "outputs": [],
   "source": [
    "id_list = np.array(test_pID)"
   ]
  },
  {
   "cell_type": "code",
   "execution_count": null,
   "metadata": {},
   "outputs": [],
   "source": [
    "submission = {'PassengerId': id_list,\n",
    "              'Survived': prediction}"
   ]
  },
  {
   "cell_type": "code",
   "execution_count": null,
   "metadata": {},
   "outputs": [],
   "source": [
    "df = pd.DataFrame.from_dict(submission)"
   ]
  },
  {
   "cell_type": "code",
   "execution_count": null,
   "metadata": {},
   "outputs": [],
   "source": [
    "df.to_csv('submission.csv', index=False)"
   ]
  },
  {
   "cell_type": "code",
   "execution_count": null,
   "metadata": {},
   "outputs": [],
   "source": []
  },
  {
   "cell_type": "code",
   "execution_count": null,
   "metadata": {},
   "outputs": [],
   "source": []
  },
  {
   "cell_type": "code",
   "execution_count": null,
   "metadata": {},
   "outputs": [],
   "source": []
  },
  {
   "cell_type": "code",
   "execution_count": null,
   "metadata": {},
   "outputs": [],
   "source": []
  },
  {
   "cell_type": "code",
   "execution_count": null,
   "metadata": {},
   "outputs": [],
   "source": []
  }
 ],
 "metadata": {
  "kernelspec": {
   "display_name": "train",
   "language": "python",
   "name": "train"
  },
  "language_info": {
   "codemirror_mode": {
    "name": "ipython",
    "version": 3
   },
   "file_extension": ".py",
   "mimetype": "text/x-python",
   "name": "python",
   "nbconvert_exporter": "python",
   "pygments_lexer": "ipython3",
   "version": "3.5.2"
  }
 },
 "nbformat": 4,
 "nbformat_minor": 2
}
