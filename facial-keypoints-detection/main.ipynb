{
 "cells": [
  {
   "cell_type": "code",
   "execution_count": 58,
   "metadata": {},
   "outputs": [],
   "source": [
    "import numpy as np\n",
    "import pandas as pd\n",
    "import os\n",
    "import matplotlib.pyplot as plt\n",
    "import matplotlib.patches as mpatches"
   ]
  },
  {
   "cell_type": "code",
   "execution_count": 4,
   "metadata": {},
   "outputs": [],
   "source": [
    "path = '../data/facial-keypoints-detection/'"
   ]
  },
  {
   "cell_type": "code",
   "execution_count": 5,
   "metadata": {},
   "outputs": [],
   "source": [
    "train = pd.read_csv( os.path.join(path, 'training.csv') )"
   ]
  },
  {
   "cell_type": "code",
   "execution_count": 89,
   "metadata": {},
   "outputs": [],
   "source": [
    "def get_image(index, display=False):\n",
    "    img_list = train.iloc[index]['Image']\n",
    "    img_list = img_list.split(' ')\n",
    "    img_flat = list(map(int, img_list))\n",
    "    img = np.reshape(img_flat, (96, 96))\n",
    "    \n",
    "    coords = []\n",
    "    \n",
    "    x1, y1 = (train.iloc[index]['left_eye_center_x'], train.iloc[index]['left_eye_center_y'])\n",
    "    x2, y2 = (train.iloc[index]['right_eye_center_x'], train.iloc[index]['right_eye_center_y'])\n",
    "    coords = coords + [[x1, y1], [x2, y2]]\n",
    "    \n",
    "    x3, y3 = (train.iloc[index]['left_eye_inner_corner_x'], train.iloc[index]['left_eye_inner_corner_y'])\n",
    "    x4, y4 = (train.iloc[index]['left_eye_outer_corner_x'], train.iloc[index]['left_eye_outer_corner_y'])\n",
    "    coords = coords + [[x3, y3], [x4, y4]]\n",
    "    \n",
    "    x5, y5 = (train.iloc[index]['right_eye_inner_corner_x'], train.iloc[index]['right_eye_inner_corner_y'])\n",
    "    x6, y6 = (train.iloc[index]['right_eye_outer_corner_x'], train.iloc[index]['right_eye_outer_corner_y'])\n",
    "    coords = coords + [[x5, y5], [x6, y6]]\n",
    "    \n",
    "    x7, y7 = (train.iloc[index]['left_eyebrow_inner_end_x'], train.iloc[index]['left_eyebrow_inner_end_y'])\n",
    "    x8, y8 = (train.iloc[index]['right_eyebrow_inner_end_x'], train.iloc[index]['right_eyebrow_inner_end_y'])\n",
    "    coords = coords + [[x7, y7], [x8, y8]]\n",
    "    \n",
    "    x9, y9 = (train.iloc[index]['left_eyebrow_outer_end_x'], train.iloc[index]['left_eyebrow_outer_end_y'])\n",
    "    x10, y10 = (train.iloc[index]['right_eyebrow_outer_end_x'], train.iloc[index]['right_eyebrow_outer_end_y'])\n",
    "    coords = coords + [[x9, y9], [x10, y10]]\n",
    "    \n",
    "    x11, y11 = (train.iloc[index]['nose_tip_x'], train.iloc[index]['nose_tip_y'])\n",
    "    coords = coords + [[x11, y11]]\n",
    "    \n",
    "    x12, y12 = (train.iloc[index]['mouth_left_corner_x'], train.iloc[index]['mouth_left_corner_y'])\n",
    "    x13, y13 = (train.iloc[index]['mouth_right_corner_x'], train.iloc[index]['mouth_right_corner_y'])\n",
    "    coords = coords + [[x12, y12], [x13, y13]]\n",
    "    \n",
    "    x14, y14 = (train.iloc[index]['mouth_center_top_lip_x'], train.iloc[index]['mouth_center_top_lip_y'])\n",
    "    coords = coords + [[x14, y14]]\n",
    "    \n",
    "    x15, y15 = (train.iloc[index]['mouth_center_bottom_lip_x'], train.iloc[index]['mouth_center_bottom_lip_y'])\n",
    "    coords = coords + [[x15, y15]]\n",
    "    \n",
    "    if display:\n",
    "        plt.imshow(img, 'gray')\n",
    "        for (x, y) in coords:\n",
    "            if (not np.isnan(x)) and (not np.isnan(y)): \n",
    "                mcircle = mpatches.Circle((x, y), 1, color='r', fill=True)\n",
    "                plt.gca().add_patch(mcircle)\n",
    "    \n",
    "    return img, coords"
   ]
  },
  {
   "cell_type": "code",
   "execution_count": 75,
   "metadata": {},
   "outputs": [
    {
     "data": {
      "text/plain": [
       "(7049, 31)"
      ]
     },
     "execution_count": 75,
     "metadata": {},
     "output_type": "execute_result"
    }
   ],
   "source": [
    "train.shape"
   ]
  },
  {
   "cell_type": "code",
   "execution_count": 77,
   "metadata": {},
   "outputs": [
    {
     "data": {
      "text/plain": [
       "left_eye_center_x                                                       72.627\n",
       "left_eye_center_y                                                      35.3906\n",
       "right_eye_center_x                                                     27.2538\n",
       "right_eye_center_y                                                     31.1427\n",
       "left_eye_inner_corner_x                                                    NaN\n",
       "left_eye_inner_corner_y                                                    NaN\n",
       "left_eye_outer_corner_x                                                    NaN\n",
       "left_eye_outer_corner_y                                                    NaN\n",
       "right_eye_inner_corner_x                                                   NaN\n",
       "right_eye_inner_corner_y                                                   NaN\n",
       "right_eye_outer_corner_x                                                   NaN\n",
       "right_eye_outer_corner_y                                                   NaN\n",
       "left_eyebrow_inner_end_x                                                   NaN\n",
       "left_eyebrow_inner_end_y                                                   NaN\n",
       "left_eyebrow_outer_end_x                                                   NaN\n",
       "left_eyebrow_outer_end_y                                                   NaN\n",
       "right_eyebrow_inner_end_x                                                  NaN\n",
       "right_eyebrow_inner_end_y                                                  NaN\n",
       "right_eyebrow_outer_end_x                                                  NaN\n",
       "right_eyebrow_outer_end_y                                                  NaN\n",
       "nose_tip_x                                                             47.7858\n",
       "nose_tip_y                                                              67.251\n",
       "mouth_left_corner_x                                                        NaN\n",
       "mouth_left_corner_y                                                        NaN\n",
       "mouth_right_corner_x                                                       NaN\n",
       "mouth_right_corner_y                                                       NaN\n",
       "mouth_center_top_lip_x                                                     NaN\n",
       "mouth_center_top_lip_y                                                     NaN\n",
       "mouth_center_bottom_lip_x                                              42.8299\n",
       "mouth_center_bottom_lip_y                                              80.7031\n",
       "Image                        137 144 148 141 134 133 147 161 172 178 180 18...\n",
       "Name: 5101, dtype: object"
      ]
     },
     "execution_count": 77,
     "metadata": {},
     "output_type": "execute_result"
    }
   ],
   "source": [
    "train.iloc[5101]"
   ]
  },
  {
   "cell_type": "code",
   "execution_count": 45,
   "metadata": {},
   "outputs": [],
   "source": [
    "left_eye_x, left_eye_y = (train.iloc[index]['left_eye_center_x'], train.iloc[index]['left_eye_center_y'])"
   ]
  },
  {
   "cell_type": "code",
   "execution_count": 95,
   "metadata": {},
   "outputs": [
    {
     "data": {
      "image/png": "[encoded data removed]",
      "text/plain": [
       "<Figure size 432x288 with 1 Axes>"
      ]
     },
     "metadata": {},
     "output_type": "display_data"
    }
   ],
   "source": [
    "img, cord = get_image(607, display=True)"
   ]
  },
  {
   "cell_type": "code",
   "execution_count": null,
   "metadata": {},
   "outputs": [],
   "source": []
  },
  {
   "cell_type": "code",
   "execution_count": null,
   "metadata": {},
   "outputs": [],
   "source": []
  },
  {
   "cell_type": "code",
   "execution_count": null,
   "metadata": {},
   "outputs": [],
   "source": []
  },
  {
   "cell_type": "code",
   "execution_count": null,
   "metadata": {},
   "outputs": [],
   "source": []
  },
  {
   "cell_type": "code",
   "execution_count": null,
   "metadata": {},
   "outputs": [],
   "source": []
  },
  {
   "cell_type": "code",
   "execution_count": null,
   "metadata": {},
   "outputs": [],
   "source": []
  },
  {
   "cell_type": "code",
   "execution_count": null,
   "metadata": {},
   "outputs": [],
   "source": []
  },
  {
   "cell_type": "code",
   "execution_count": null,
   "metadata": {},
   "outputs": [],
   "source": []
  }
 ],
 "metadata": {
  "kernelspec": {
   "display_name": "train",
   "language": "python",
   "name": "train"
  },
  "language_info": {
   "codemirror_mode": {
    "name": "ipython",
    "version": 3
   },
   "file_extension": ".py",
   "mimetype": "text/x-python",
   "name": "python",
   "nbconvert_exporter": "python",
   "pygments_lexer": "ipython3",
   "version": "3.5.2"
  }
 },
 "nbformat": 4,
 "nbformat_minor": 2
}
